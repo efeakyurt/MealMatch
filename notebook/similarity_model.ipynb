{
 "cells": [
  {
   "cell_type": "code",
   "execution_count": null,
   "id": "5bb72429",
   "metadata": {},
   "outputs": [],
   "source": [
    "import pandas as pd\n",
    "from sklearn.feature_extraction.text import TfidfVectorizer\n",
    "from sklearn.metrics.pairwise import cosine_similarity\n",
    "import pickle\n",
    "\n",
    "df = pd.read_csv(\"../data/updated_food_dataset.csv\")\n",
    "\n",
    "# Modeli train etmek için sadece Describe alanını kullanıyoruz\n",
    "vectorizer = TfidfVectorizer(stop_words='english')\n",
    "tfidf_matrix = vectorizer.fit_transform(df['Describe'])\n",
    "\n",
    "# Cosine benzerlik matrisi\n",
    "similarity_matrix = cosine_similarity(tfidf_matrix, tfidf_matrix)\n",
    "\n",
    "# Kaydedioruz\n",
    "pickle.dump(tfidf_matrix, open(\"../app/tfidf_matrix.pkl\", \"wb\"))\n",
    "pickle.dump(vectorizer, open(\"../app/vectorizer.pkl\", \"wb\"))\n",
    "pickle.dump(df, open(\"../app/df.pkl\", \"wb\"))  # referans için\n"
   ]
  }
 ],
 "metadata": {
  "kernelspec": {
   "display_name": "venv",
   "language": "python",
   "name": "python3"
  },
  "language_info": {
   "codemirror_mode": {
    "name": "ipython",
    "version": 3
   },
   "file_extension": ".py",
   "mimetype": "text/x-python",
   "name": "python",
   "nbconvert_exporter": "python",
   "pygments_lexer": "ipython3",
   "version": "3.13.2"
  }
 },
 "nbformat": 4,
 "nbformat_minor": 5
}
